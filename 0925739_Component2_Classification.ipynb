{
 "cells": [
  {
   "cell_type": "markdown",
   "metadata": {},
   "source": [
    "# Advanced Machine Learning (2019 MOD006566 TRI1 F01CAM)\n",
    "\n",
    "### Element 010\n",
    "\n",
    "### Student ID: 0925739\n",
    "\n",
    "## Component 2: Turnitin ML code submission and Participation in Kaggle Challenge for the Titanic Dataset\n",
    "\n",
    "First we load the data a cleaned from Component 1."
   ]
  },
  {
   "cell_type": "code",
   "execution_count": 1,
   "metadata": {},
   "outputs": [],
   "source": [
    "import numpy as np\n",
    "import pandas as pd\n",
    "import matplotlib.pyplot as plt\n",
    "import seaborn as sns\n",
    "%matplotlib inline\n",
    "X_train, y_train = pd.read_csv('X_train.csv'), pd.read_csv('y_train.csv', header=None)\n",
    "X_valid, y_valid = pd.read_csv('X_valid.csv'), pd.read_csv('y_valid.csv', header=None)\n",
    "\n",
    "#reshaping y_train andd y_valid into 1-D Numpy array\n",
    "y_train = np.array(y_train).reshape(534,)\n",
    "y_valid = np.array(y_valid).reshape(357,)"
   ]
  },
  {
   "cell_type": "markdown",
   "metadata": {},
   "source": [
    "Below we fit a K-Nearest Neighbor classifier in the data and check the accuracy scores on both the test and valid sets."
   ]
  },
  {
   "cell_type": "code",
   "execution_count": 2,
   "metadata": {},
   "outputs": [
    {
     "name": "stdout",
     "output_type": "stream",
     "text": [
      "0.8071161048689138\n",
      "0.6442577030812325\n"
     ]
    }
   ],
   "source": [
    "from sklearn.neighbors import KNeighborsClassifier\n",
    "knn = KNeighborsClassifier(n_neighbors=5)\n",
    "\n",
    "knn.fit(X_train, y_train)\n",
    "print(knn.score(X_train, y_train))\n",
    "print(knn.score(X_valid, y_valid))"
   ]
  },
  {
   "cell_type": "markdown",
   "metadata": {},
   "source": [
    "As seen, the K-Nearest Neighbor is not so great at test prediction and hence may not be an excellent algorithm to use in this case.\n",
    "\n",
    "Moving on, below is a logistic regression fit on the data and accuracy scores on both training and test sets."
   ]
  },
  {
   "cell_type": "code",
   "execution_count": 3,
   "metadata": {},
   "outputs": [
    {
     "name": "stdout",
     "output_type": "stream",
     "text": [
      "0.846441947565543\n",
      "0.7955182072829131\n"
     ]
    }
   ],
   "source": [
    "from sklearn.linear_model import LogisticRegression\n",
    "\n",
    "logreg = LogisticRegression(solver='liblinear')\n",
    "logreg.fit(X_train, y_train)\n",
    "print(logreg.score(X_train, y_train))\n",
    "print(logreg.score(X_valid, y_valid))"
   ]
  },
  {
   "cell_type": "markdown",
   "metadata": {},
   "source": [
    "Logistic regression definitely performs better than KNN and hence could be a good algorithm for this classification task. Improvements can be made on the score by data scaling and adding polynomial features."
   ]
  },
  {
   "cell_type": "code",
   "execution_count": 4,
   "metadata": {},
   "outputs": [
    {
     "name": "stdout",
     "output_type": "stream",
     "text": [
      "Logistic Regression with standard scaled data\n",
      "Train Accuracy : 0.8558052434456929\n",
      "Test Accuracy  : 0.7927170868347339\n",
      "===============================================================\n",
      "Logistic Regression with polynomial features on scaled data\n",
      "Train Accuracy : 0.8707865168539326\n",
      "Test Accuracy  : 0.7871148459383753\n"
     ]
    }
   ],
   "source": [
    "from sklearn.preprocessing import StandardScaler\n",
    "from sklearn.preprocessing import PolynomialFeatures\n",
    "from sklearn.linear_model import LogisticRegressionCV\n",
    "\n",
    "sc = StandardScaler()\n",
    "poly = PolynomialFeatures(2)\n",
    "\n",
    "# Standardizing the datasets\n",
    "X_train_std = sc.fit_transform(X_train)\n",
    "X_valid_std = sc.transform(X_valid)\n",
    "\n",
    "# Transforming to polynomial features\n",
    "X_train_poly = poly.fit_transform(X_train)\n",
    "X_valid_poly = poly.transform(X_valid)\n",
    "\n",
    "\n",
    "logreg_std = LogisticRegressionCV(Cs=[1,2,4,6,8,10], solver='liblinear', max_iter=200, cv=10, random_state=2)\n",
    "logreg_std.fit(X_train_std, y_train)\n",
    "\n",
    "logreg_poly = LogisticRegressionCV(Cs=[0.5], solver='liblinear', penalty='l1', max_iter=300, cv=10, random_state=2)\n",
    "logreg_poly.fit(X_train_poly, y_train)\n",
    "\n",
    "print('Logistic Regression with standard scaled data')\n",
    "print('Train Accuracy :', logreg_std.score(X_train_std, y_train))\n",
    "print('Test Accuracy  :', logreg_std.score(X_valid_std, y_valid))\n",
    "# print('Coefficients   :', logreg_std.coef_)\n",
    "\n",
    "print('===============================================================')\n",
    "print('Logistic Regression with polynomial features on scaled data')\n",
    "print('Train Accuracy :', logreg_poly.score(X_train_poly, y_train))\n",
    "print('Test Accuracy  :', logreg_poly.score(X_valid_poly, y_valid))\n",
    "# print('Coefficients   :', logreg_poly.coef_)\n"
   ]
  },
  {
   "cell_type": "markdown",
   "metadata": {},
   "source": [
    "It is noticed that the logistic regression does not improve much with scaled data or polynomial features.\n",
    "\n",
    "Below are other classification algorithms."
   ]
  },
  {
   "cell_type": "code",
   "execution_count": 5,
   "metadata": {},
   "outputs": [
    {
     "name": "stdout",
     "output_type": "stream",
     "text": [
      "0.9063670411985019\n",
      "0.7647058823529411\n"
     ]
    }
   ],
   "source": [
    "from sklearn.svm import SVC\n",
    "\n",
    "svm = SVC(kernel='rbf', random_state=1, gamma=0.10, C=50.0)\n",
    "svm.fit(X_train_std, y_train)\n",
    "\n",
    "print(svm.score(X_train_std, y_train))\n",
    "print(svm.score(X_valid_std, y_valid))"
   ]
  },
  {
   "cell_type": "markdown",
   "metadata": {},
   "source": [
    "The Support Vector Machine classifer has slightly less accurate results compared to Logistic Regression.\n",
    "\n",
    "Below is the code to implement Decision Tree Classifier on the data."
   ]
  },
  {
   "cell_type": "code",
   "execution_count": 6,
   "metadata": {},
   "outputs": [
    {
     "name": "stdout",
     "output_type": "stream",
     "text": [
      "Cross Validation Scores :  [0.80555556 0.75       0.74528302 0.79245283 0.79245283]\n",
      "Fitting 5 folds for each of 30 candidates, totalling 150 fits\n"
     ]
    },
    {
     "name": "stderr",
     "output_type": "stream",
     "text": [
      "[Parallel(n_jobs=-1)]: Using backend LokyBackend with 12 concurrent workers.\n"
     ]
    },
    {
     "name": "stdout",
     "output_type": "stream",
     "text": [
      "Best accuracy score: 0.8408239700374532\n",
      "Best parameters    : {'max_depth': 3, 'max_features': 0.7}\n"
     ]
    },
    {
     "name": "stderr",
     "output_type": "stream",
     "text": [
      "[Parallel(n_jobs=-1)]: Done  26 tasks      | elapsed:    2.2s\n",
      "[Parallel(n_jobs=-1)]: Done 150 out of 150 | elapsed:    2.3s finished\n",
      "C:\\Users\\User\\Anaconda3\\lib\\site-packages\\sklearn\\model_selection\\_search.py:814: DeprecationWarning: The default of the `iid` parameter will change from True to False in version 0.22 and will be removed in 0.24. This will change numeric results when test-set sizes are unequal.\n",
      "  DeprecationWarning)\n"
     ]
    }
   ],
   "source": [
    "from sklearn.tree import DecisionTreeClassifier\n",
    "from sklearn.model_selection import cross_val_score\n",
    "from sklearn.model_selection import GridSearchCV\n",
    "\n",
    "first_tree = DecisionTreeClassifier(random_state=17)\n",
    "cr_v = cross_val_score(first_tree, X_train_std, y_train, cv=5)\n",
    "print('Cross Validation Scores : ', cr_v)\n",
    "\n",
    "#Performing grid search to find the best parameters for decision tree classifier\n",
    "L = np.arange(1, 11)\n",
    "tree_params = {'max_depth': L, 'max_features': [0.5, 0.7, 1]}\n",
    "tree_grid = GridSearchCV(first_tree,\n",
    "                         tree_params,\n",
    "                         cv=5,\n",
    "                         n_jobs = -1,\n",
    "                         verbose=True)\n",
    "tree_grid.fit(X_train_std, y_train)\n",
    "print('Best accuracy score:', tree_grid.best_score_)\n",
    "print('Best parameters    :', tree_grid.best_params_)"
   ]
  },
  {
   "cell_type": "markdown",
   "metadata": {},
   "source": [
    "The GridSearchCV has helped figure out the best parameters for the decision tree.\n",
    "\n",
    "We can use the best parameters of the decision tree for our random forest classifer below."
   ]
  },
  {
   "cell_type": "code",
   "execution_count": 7,
   "metadata": {},
   "outputs": [
    {
     "name": "stdout",
     "output_type": "stream",
     "text": [
      "0.8576779026217228\n",
      "0.7955182072829131\n"
     ]
    }
   ],
   "source": [
    "from sklearn.ensemble import RandomForestClassifier\n",
    "forest = RandomForestClassifier(n_estimators=50, max_depth=3, max_features=0.7, random_state=9)\n",
    "forest = forest.fit(X_train_std, y_train)\n",
    "\n",
    "print(forest.score(X_train_std, y_train))\n",
    "print(forest.score(X_valid_std, y_valid))"
   ]
  },
  {
   "cell_type": "markdown",
   "metadata": {},
   "source": [
    "The results from the Random Forest Classifier are very similar to Logistic Regression.\n",
    "\n",
    "It could be that for the amount of features that are currently available, the learning model is only able to generalise to this accuracy level."
   ]
  },
  {
   "cell_type": "code",
   "execution_count": 8,
   "metadata": {},
   "outputs": [
    {
     "name": "stdout",
     "output_type": "stream",
     "text": [
      "AdaBoost Cross validation scores  : [0.78703704 0.7962963  0.76415094 0.82075472 0.83018868]\n",
      "AdaBoost Classifier - Train Score : 0.9925093632958801\n",
      "AdaBoost Classifier - Valid Score : 0.7478991596638656\n"
     ]
    }
   ],
   "source": [
    "from sklearn.ensemble import AdaBoostClassifier\n",
    "tree = DecisionTreeClassifier(criterion='gini', random_state=1, max_depth=3, max_features=0.7)\n",
    "\n",
    "#Creating a AdaBoost instance and fitting at the same time\n",
    "aboost = AdaBoostClassifier(base_estimator=tree, \n",
    "                            n_estimators=500, \n",
    "                            learning_rate=0.1, \n",
    "                            random_state=1).fit(X_train_std, y_train)\n",
    "\n",
    "scores = cross_val_score(aboost, X_train_std, y_train, cv=5)\n",
    "print('AdaBoost Cross validation scores  :', scores)\n",
    "print('AdaBoost Classifier - Train Score :', aboost.score(X_train_std, y_train))\n",
    "print('AdaBoost Classifier - Valid Score :', aboost.score(X_valid_std, y_valid))"
   ]
  },
  {
   "cell_type": "markdown",
   "metadata": {},
   "source": [
    "Seen above, although the AdaBoost Classifier brought the training accuracy to 99%, the validation set's accuracy does not generalise better than seen from other classifiers.\n",
    "\n",
    "Below we create a majority voting classifier using VotingClassifier class from scikitLearn and do a GridSearchCV to find the best parameters on our classifiers."
   ]
  },
  {
   "cell_type": "code",
   "execution_count": 9,
   "metadata": {},
   "outputs": [
    {
     "name": "stdout",
     "output_type": "stream",
     "text": [
      "Wall time: 55.6 s\n"
     ]
    },
    {
     "data": {
      "text/plain": [
       "GridSearchCV(cv=5, error_score='raise-deprecating',\n",
       "             estimator=VotingClassifier(estimators=[('KNN',\n",
       "                                                     KNeighborsClassifier(algorithm='auto',\n",
       "                                                                          leaf_size=30,\n",
       "                                                                          metric='minkowski',\n",
       "                                                                          metric_params=None,\n",
       "                                                                          n_jobs=None,\n",
       "                                                                          n_neighbors=5,\n",
       "                                                                          p=2,\n",
       "                                                                          weights='uniform')),\n",
       "                                                    ('LogReg_Std',\n",
       "                                                     LogisticRegressionCV(Cs=[1,\n",
       "                                                                              2,\n",
       "                                                                              4,\n",
       "                                                                              6,\n",
       "                                                                              8,\n",
       "                                                                              10],\n",
       "                                                                          class_weight=None,\n",
       "                                                                          cv=10,\n",
       "                                                                          dual=False,\n",
       "                                                                          fit_intercept=True,\n",
       "                                                                          intercep...\n",
       "                                                                            random_state=9,\n",
       "                                                                            verbose=0,\n",
       "                                                                            warm_start=False))],\n",
       "                                        flatten_transform=True, n_jobs=-1,\n",
       "                                        voting='soft', weights=[2, 3, 2, 2]),\n",
       "             iid='warn', n_jobs=None,\n",
       "             param_grid={'AdaBoost__n_estimators': [20, 200],\n",
       "                         'KNN__n_neighbors': [3, 5, 7],\n",
       "                         'LogReg_Std__Cs': [1, 2, 4, 6, 8],\n",
       "                         'RandomForest__n_estimators': [20, 200]},\n",
       "             pre_dispatch='2*n_jobs', refit=True, return_train_score=False,\n",
       "             scoring=None, verbose=0)"
      ]
     },
     "execution_count": 9,
     "metadata": {},
     "output_type": "execute_result"
    }
   ],
   "source": [
    "%%time\n",
    "#This code may take a few minutes for the results as it is doing Grid Search CV in an ensemble of classifiers\n",
    "from sklearn.ensemble import VotingClassifier\n",
    "VotC = VotingClassifier(estimators= [('KNN', knn), ('LogReg_Std', logreg_std), ('AdaBoost', aboost), ('RandomForest', forest)],\n",
    "                        voting='soft',\n",
    "                        weights=[2,3,2,2],\n",
    "                        n_jobs=-1,\n",
    "                        flatten_transform=True)\n",
    "\n",
    "params = {'KNN__n_neighbors': [3, 5, 7], 'LogReg_Std__Cs': [1,2,4,6,8], 'RandomForest__n_estimators': [20, 200], 'AdaBoost__n_estimators': [20, 200]}\n",
    "grid = GridSearchCV(estimator=VotC, param_grid=params, cv=5)\n",
    "grid.fit(X_train_std, y_train)"
   ]
  },
  {
   "cell_type": "markdown",
   "metadata": {},
   "source": [
    "The grid classifier takes a while to run but provides us with best parameters to use for all classifiers as shown below."
   ]
  },
  {
   "cell_type": "code",
   "execution_count": 10,
   "metadata": {},
   "outputs": [
    {
     "name": "stdout",
     "output_type": "stream",
     "text": [
      "Grid Train Score : 0.8801498127340824\n",
      "Grid Test Score  : 0.803921568627451\n",
      "Grid Best Parameters : {'AdaBoost__n_estimators': 200, 'KNN__n_neighbors': 3, 'LogReg_Std__Cs': 2, 'RandomForest__n_estimators': 200}\n"
     ]
    }
   ],
   "source": [
    "print('Grid Train Score :', grid.score(X_train_std, y_train))\n",
    "print('Grid Test Score  :', grid.score(X_valid_std, y_valid))\n",
    "\n",
    "print('Grid Best Parameters :', grid.best_params_)"
   ]
  },
  {
   "cell_type": "code",
   "execution_count": 11,
   "metadata": {},
   "outputs": [
    {
     "name": "stdout",
     "output_type": "stream",
     "text": [
      "0.8801498127340824\n",
      "0.803921568627451\n"
     ]
    }
   ],
   "source": [
    "from sklearn.metrics import accuracy_score\n",
    "y_train_pred = grid.predict(X_train_std)\n",
    "y_valid_pred = grid.predict(X_valid_std)\n",
    "\n",
    "print(accuracy_score(y_train, y_train_pred))\n",
    "print(accuracy_score(y_valid, y_valid_pred))"
   ]
  },
  {
   "cell_type": "code",
   "execution_count": 12,
   "metadata": {},
   "outputs": [
    {
     "name": "stdout",
     "output_type": "stream",
     "text": [
      "ROC AUC Accuracy: 0.85 (+/- 0.03) [knn]\n",
      "ROC AUC Accuracy: 0.89 (+/- 0.03) [logreg_std]\n",
      "ROC AUC Accuracy: 0.89 (+/- 0.03) [logreg_poly]\n",
      "ROC AUC Accuracy: 0.86 (+/- 0.02) [aboost]\n",
      "ROC AUC Accuracy: 0.88 (+/- 0.04) [forest]\n",
      "ROC AUC Accuracy: 0.89 (+/- 0.03) [Majority voting]\n"
     ]
    }
   ],
   "source": [
    "Best_VotC = VotingClassifier(estimators= [('KNN', knn), ('LogReg_Std', logreg_std), ('LogReg_Poly', logreg_poly), ('AdaBoost', aboost), ('RandomForest', forest)],\n",
    "                        voting='soft',\n",
    "                        weights=[2,3,3,2,2],\n",
    "                        n_jobs=-1,\n",
    "                        flatten_transform=True)\n",
    "\n",
    "params = {'KNN__n_neighbors': [3], 'LogReg_Std__Cs': [1], 'RandomForest__n_estimators': [20], 'AdaBoost__n_estimators': [20]}\n",
    "grid = GridSearchCV(estimator=VotC, param_grid=params, cv=5)\n",
    "grid.fit(X_train_std, y_train)\n",
    "\n",
    "clf_labels = ['knn', 'logreg_std', 'logreg_poly', 'aboost', 'forest','Majority voting']\n",
    "all_clf = [knn, logreg_std, logreg_poly, aboost, forest, Best_VotC]\n",
    "for clf, label in zip(all_clf, clf_labels):\n",
    "    scores = cross_val_score(estimator=clf, X=X_train_std, y=y_train, cv=10, scoring='roc_auc')\n",
    "    print(\"ROC AUC Accuracy: %0.2f (+/- %0.2f) [%s]\" % (scores.mean(), scores.std(), label))"
   ]
  },
  {
   "cell_type": "code",
   "execution_count": 13,
   "metadata": {
    "scrolled": false
   },
   "outputs": [
    {
     "data": {
      "image/png": "[encoded data removed]",
      "text/plain": [
       "<Figure size 1080x720 with 1 Axes>"
      ]
     },
     "metadata": {
      "needs_background": "light"
     },
     "output_type": "display_data"
    }
   ],
   "source": [
    "from sklearn.metrics import roc_curve\n",
    "from sklearn.metrics import auc\n",
    "colors = ['black', 'orange', 'blue', 'green', 'red', 'black']\n",
    "linestyles = [':', '--', '-.', '-', '-', '--']\n",
    "plt.figure(figsize=(15,10))\n",
    "\n",
    "for clf, label, clr, ls in zip(all_clf, clf_labels, colors, linestyles):\n",
    "# assuming the label of the positive class is 1\n",
    "    y_pred = clf.fit(X_train_std, y_train).predict_proba(X_valid_std)[:, 1]\n",
    "    fpr, tpr, thresholds = roc_curve(y_true=y_valid, y_score=y_pred)\n",
    "    roc_auc = auc(x=fpr, y=tpr)\n",
    "    plt.plot(fpr, tpr, color=clr, linestyle=ls, label='%s (auc = %0.2f)' % (label, roc_auc))\n",
    "    plt.legend(loc='lower right')\n",
    "    plt.plot([0, 1], [0, 1], linestyle='--',color='gray',linewidth=2)\n",
    "    \n",
    "plt.xlim([-0.1, 1.1])\n",
    "plt.ylim([-0.1, 1.1])\n",
    "plt.grid(alpha=0.5)\n",
    "plt.xlabel('False positive rate (FPR)')\n",
    "plt.ylabel('True positive rate (TPR)')\n",
    "plt.show()"
   ]
  },
  {
   "cell_type": "markdown",
   "metadata": {},
   "source": [
    "Now is the best time to make preditions on the test data. We load the test set cleaned from Component 1."
   ]
  },
  {
   "cell_type": "code",
   "execution_count": 14,
   "metadata": {},
   "outputs": [],
   "source": [
    "test_set = pd.read_csv('test_set.csv')"
   ]
  },
  {
   "cell_type": "code",
   "execution_count": 15,
   "metadata": {},
   "outputs": [],
   "source": [
    "test_set_std = sc.transform(test_set)"
   ]
  },
  {
   "cell_type": "markdown",
   "metadata": {},
   "source": [
    "First lets read 'gender_submission.csv'."
   ]
  },
  {
   "cell_type": "code",
   "execution_count": 16,
   "metadata": {},
   "outputs": [
    {
     "data": {
      "text/html": [
       "<div>\n",
       "<style scoped>\n",
       "    .dataframe tbody tr th:only-of-type {\n",
       "        vertical-align: middle;\n",
       "    }\n",
       "\n",
       "    .dataframe tbody tr th {\n",
       "        vertical-align: top;\n",
       "    }\n",
       "\n",
       "    .dataframe thead th {\n",
       "        text-align: right;\n",
       "    }\n",
       "</style>\n",
       "<table border=\"1\" class=\"dataframe\">\n",
       "  <thead>\n",
       "    <tr style=\"text-align: right;\">\n",
       "      <th></th>\n",
       "      <th>PassengerId</th>\n",
       "      <th>Survived</th>\n",
       "    </tr>\n",
       "  </thead>\n",
       "  <tbody>\n",
       "    <tr>\n",
       "      <td>0</td>\n",
       "      <td>892</td>\n",
       "      <td>0</td>\n",
       "    </tr>\n",
       "    <tr>\n",
       "      <td>1</td>\n",
       "      <td>893</td>\n",
       "      <td>1</td>\n",
       "    </tr>\n",
       "    <tr>\n",
       "      <td>2</td>\n",
       "      <td>894</td>\n",
       "      <td>0</td>\n",
       "    </tr>\n",
       "    <tr>\n",
       "      <td>3</td>\n",
       "      <td>895</td>\n",
       "      <td>0</td>\n",
       "    </tr>\n",
       "    <tr>\n",
       "      <td>4</td>\n",
       "      <td>896</td>\n",
       "      <td>1</td>\n",
       "    </tr>\n",
       "  </tbody>\n",
       "</table>\n",
       "</div>"
      ],
      "text/plain": [
       "   PassengerId  Survived\n",
       "0          892         0\n",
       "1          893         1\n",
       "2          894         0\n",
       "3          895         0\n",
       "4          896         1"
      ]
     },
     "execution_count": 16,
     "metadata": {},
     "output_type": "execute_result"
    }
   ],
   "source": [
    "submission = pd.read_csv('gender_submission.csv')\n",
    "submission.head()"
   ]
  },
  {
   "cell_type": "markdown",
   "metadata": {},
   "source": [
    "We will make the preditions to go on the **'Survived'** column."
   ]
  },
  {
   "cell_type": "code",
   "execution_count": 17,
   "metadata": {},
   "outputs": [],
   "source": [
    "submission['Survived'] = Best_VotC.predict(test_set_std)"
   ]
  },
  {
   "cell_type": "code",
   "execution_count": 18,
   "metadata": {},
   "outputs": [
    {
     "data": {
      "text/html": [
       "<div>\n",
       "<style scoped>\n",
       "    .dataframe tbody tr th:only-of-type {\n",
       "        vertical-align: middle;\n",
       "    }\n",
       "\n",
       "    .dataframe tbody tr th {\n",
       "        vertical-align: top;\n",
       "    }\n",
       "\n",
       "    .dataframe thead th {\n",
       "        text-align: right;\n",
       "    }\n",
       "</style>\n",
       "<table border=\"1\" class=\"dataframe\">\n",
       "  <thead>\n",
       "    <tr style=\"text-align: right;\">\n",
       "      <th></th>\n",
       "      <th>PassengerId</th>\n",
       "      <th>Survived</th>\n",
       "    </tr>\n",
       "  </thead>\n",
       "  <tbody>\n",
       "    <tr>\n",
       "      <td>0</td>\n",
       "      <td>892</td>\n",
       "      <td>0</td>\n",
       "    </tr>\n",
       "    <tr>\n",
       "      <td>1</td>\n",
       "      <td>893</td>\n",
       "      <td>1</td>\n",
       "    </tr>\n",
       "    <tr>\n",
       "      <td>2</td>\n",
       "      <td>894</td>\n",
       "      <td>0</td>\n",
       "    </tr>\n",
       "    <tr>\n",
       "      <td>3</td>\n",
       "      <td>895</td>\n",
       "      <td>0</td>\n",
       "    </tr>\n",
       "    <tr>\n",
       "      <td>4</td>\n",
       "      <td>896</td>\n",
       "      <td>1</td>\n",
       "    </tr>\n",
       "  </tbody>\n",
       "</table>\n",
       "</div>"
      ],
      "text/plain": [
       "   PassengerId  Survived\n",
       "0          892         0\n",
       "1          893         1\n",
       "2          894         0\n",
       "3          895         0\n",
       "4          896         1"
      ]
     },
     "execution_count": 18,
     "metadata": {},
     "output_type": "execute_result"
    }
   ],
   "source": [
    "submission.head()"
   ]
  },
  {
   "cell_type": "markdown",
   "metadata": {},
   "source": [
    "After getting the predictions in the correct format, the final predictions are saved as **'submission.csv'**."
   ]
  },
  {
   "cell_type": "code",
   "execution_count": 19,
   "metadata": {},
   "outputs": [],
   "source": [
    "submission.to_csv('submission.csv', header = submission.columns.to_list(), index=False)"
   ]
  }
 ],
 "metadata": {
  "kernelspec": {
   "display_name": "Python 3",
   "language": "python",
   "name": "python3"
  },
  "language_info": {
   "codemirror_mode": {
    "name": "ipython",
    "version": 3
   },
   "file_extension": ".py",
   "mimetype": "text/x-python",
   "name": "python",
   "nbconvert_exporter": "python",
   "pygments_lexer": "ipython3",
   "version": "3.7.3"
  }
 },
 "nbformat": 4,
 "nbformat_minor": 2
}
